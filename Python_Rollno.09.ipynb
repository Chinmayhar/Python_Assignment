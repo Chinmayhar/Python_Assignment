{
 "cells": [
  {
   "cell_type": "code",
   "execution_count": 1,
   "id": "31e97653-9dc9-49b8-881a-106ed8fdf5a9",
   "metadata": {},
   "outputs": [
    {
     "name": "stdout",
     "output_type": "stream",
     "text": [
      "4.0\n"
     ]
    }
   ],
   "source": [
    "### Q1: What is the output of following expression ###\n",
    "   ### 5 + 4 * 9 % (3 + 1) / 6 - 1 ###\n",
    "output_expression=5 + 4 * 9 % (3 + 1) / 6 - 1\n",
    "print (output_expression)"
   ]
  },
  {
   "cell_type": "code",
   "execution_count": 2,
   "id": "b3eba2cc-645c-4982-98d2-b5a63d801c87",
   "metadata": {},
   "outputs": [
    {
     "name": "stdin",
     "output_type": "stream",
     "text": [
      "Enter your number 2\n"
     ]
    },
    {
     "name": "stdout",
     "output_type": "stream",
     "text": [
      "numebr is even\n"
     ]
    }
   ],
   "source": [
    "# Q2: Write a program to check if a Number is Odd or Even. Take number as a input from user at runtime.\n",
    "Number= int (input (\"Enter your number\"))\n",
    "if Number%2==0 :\n",
    "    print(\"numebr is even\")\n",
    "else :\n",
    "    print(\"number is odd\")"
   ]
  },
  {
   "cell_type": "code",
   "execution_count": 4,
   "id": "04e46a97-1cda-4145-bfb1-37df7be200d1",
   "metadata": {},
   "outputs": [
    {
     "name": "stdin",
     "output_type": "stream",
     "text": [
      "Enter a number to display its multiplication table:  2\n"
     ]
    },
    {
     "name": "stdout",
     "output_type": "stream",
     "text": [
      "2 x 1 = 2\n",
      "2 x 2 = 4\n",
      "2 x 3 = 6\n",
      "2 x 4 = 8\n",
      "2 x 5 = 10\n",
      "2 x 6 = 12\n",
      "2 x 7 = 14\n",
      "2 x 8 = 16\n",
      "2 x 9 = 18\n",
      "2 x 10 = 20\n"
     ]
    }
   ],
   "source": [
    "#Q3: Write a program to display the multiplication table by taking a number as input. \n",
    "   # [Hint : Use print statement inside of a loop]\n",
    "# Python program to display multiplication table\n",
    "number = int(input(\"Enter a number to display its multiplication table: \"))\n",
    "for i in range(1, 11):\n",
    "    print(f\"{number} x {i} = {number * i}\")\n"
   ]
  },
  {
   "cell_type": "code",
   "execution_count": 6,
   "id": "999cea76-fcce-4acf-91ee-bd07d43ee71b",
   "metadata": {
    "scrolled": true
   },
   "outputs": [
    {
     "name": "stdout",
     "output_type": "stream",
     "text": [
      "2002\n",
      "2009\n",
      "2016\n",
      "2023\n",
      "2037\n",
      "2044\n",
      "2051\n",
      "2058\n",
      "2072\n",
      "2079\n",
      "2086\n",
      "2093\n",
      "2107\n",
      "2114\n",
      "2121\n",
      "2128\n",
      "2142\n",
      "2149\n",
      "2156\n",
      "2163\n",
      "2177\n",
      "2184\n",
      "2191\n",
      "2198\n",
      "2212\n",
      "2219\n",
      "2226\n",
      "2233\n",
      "2247\n",
      "2254\n",
      "2261\n",
      "2268\n",
      "2282\n",
      "2289\n",
      "2296\n",
      "2303\n",
      "2317\n",
      "2324\n",
      "2331\n",
      "2338\n",
      "2352\n",
      "2359\n",
      "2366\n",
      "2373\n",
      "2387\n",
      "2394\n",
      "2401\n",
      "2408\n",
      "2422\n",
      "2429\n",
      "2436\n",
      "2443\n",
      "2457\n",
      "2464\n",
      "2471\n",
      "2478\n",
      "2492\n",
      "2499\n",
      "2506\n",
      "2513\n",
      "2527\n",
      "2534\n",
      "2541\n",
      "2548\n",
      "2562\n",
      "2569\n",
      "2576\n",
      "2583\n",
      "2597\n",
      "2604\n",
      "2611\n",
      "2618\n",
      "2632\n",
      "2639\n",
      "2646\n",
      "2653\n",
      "2667\n",
      "2674\n",
      "2681\n",
      "2688\n",
      "2702\n",
      "2709\n",
      "2716\n",
      "2723\n",
      "2737\n",
      "2744\n",
      "2751\n",
      "2758\n",
      "2772\n",
      "2779\n",
      "2786\n",
      "2793\n",
      "2807\n",
      "2814\n",
      "2821\n",
      "2828\n",
      "2842\n",
      "2849\n",
      "2856\n",
      "2863\n",
      "2877\n",
      "2884\n",
      "2891\n",
      "2898\n",
      "2912\n",
      "2919\n",
      "2926\n",
      "2933\n",
      "2947\n",
      "2954\n",
      "2961\n",
      "2968\n",
      "2982\n",
      "2989\n",
      "2996\n",
      "3003\n",
      "3017\n",
      "3024\n",
      "3031\n",
      "3038\n",
      "3052\n",
      "3059\n",
      "3066\n",
      "3073\n",
      "3087\n",
      "3094\n",
      "3101\n",
      "3108\n",
      "3122\n",
      "3129\n",
      "3136\n",
      "3143\n",
      "3157\n",
      "3164\n",
      "3171\n",
      "3178\n",
      "3192\n",
      "3199\n"
     ]
    }
   ],
   "source": [
    "#Q4: Write a program which will find all numbers between 2000 and 3200 which are divisible by 7 but are not a multiple of 5.\n",
    "#Note: The numbers obtained should be printed in a comma-separated sequence on a single line.\n",
    "for i in range (2000,3200):\n",
    "    if i%7==0 and i%5!=0:\n",
    "        print(i)"
   ]
  },
  {
   "cell_type": "code",
   "execution_count": 7,
   "id": "ca5ed205-a1dc-4287-b62d-18ff9edc498a",
   "metadata": {},
   "outputs": [
    {
     "name": "stdout",
     "output_type": "stream",
     "text": [
      "int: 5\n",
      "str: 4\n",
      "float: 1\n",
      "bool: 1\n",
      "NoneType: 1\n"
     ]
    }
   ],
   "source": [
    "#Q5: Count the elements of each datatype inside the list and display in output\n",
    "list = [2, 3, 'Py', '10', 1, 'SQL', 5.5, True, 3, 'John', None, 7]\n",
    "\n",
    "int_count = 0\n",
    "str_count = 0\n",
    "float_count = 0\n",
    "bool_count = 0\n",
    "none_count = 0\n",
    "\n",
    "for element in list:\n",
    "    if type(element) == int:\n",
    "        int_count += 1\n",
    "    elif type(element) == str:\n",
    "        str_count += 1\n",
    "    elif type(element) == float:\n",
    "        float_count += 1\n",
    "    elif type(element) == bool:\n",
    "        bool_count += 1\n",
    "    elif type(element) == type(None):\n",
    "        none_count += 1\n",
    "\n",
    "print(\"int:\", int_count)\n",
    "print(\"str:\", str_count)\n",
    "print(\"float:\", float_count)\n",
    "print(\"bool:\", bool_count)\n",
    "print(\"NoneType:\", none_count)"
   ]
  },
  {
   "cell_type": "code",
   "execution_count": 8,
   "id": "6126eaf7-e39c-4492-9e41-eb1877eb7b21",
   "metadata": {},
   "outputs": [
    {
     "name": "stdout",
     "output_type": "stream",
     "text": [
      "Total sum of numeric values: 22.5\n"
     ]
    }
   ],
   "source": [
    "#Q6: Add all values from the list with numeric datatypes\n",
    "list = [2, 3, 'Py', '10', 1, 'SQL', 5.5, True, 3, 'John', None, 7]\n",
    "\n",
    "total_sum = 0\n",
    "\n",
    "for element in list:\n",
    "    if type(element) == int or type(element) == float or type(element) == bool:\n",
    "        total_sum += element\n",
    "\n",
    "print(\"Total sum of numeric values:\", total_sum)"
   ]
  },
  {
   "cell_type": "code",
   "execution_count": 10,
   "id": "ddc95ff7-16b1-4969-ac99-9c51fb023319",
   "metadata": {},
   "outputs": [
    {
     "name": "stdout",
     "output_type": "stream",
     "text": [
      "Concatenated string: Py-10-SQL-John\n"
     ]
    }
   ],
   "source": [
    "#Q7: Concat all str datatypes with hyphen as a delimiter\n",
    "list = [2, 3, 'Py', '10', 1, 'SQL', 5.5, True, 3, 'John', None, 7]\n",
    "\n",
    "concat_string = \"\"\n",
    "\n",
    "for element in list:\n",
    "    if type(element) == str:\n",
    "        if concat_string == \"\":\n",
    "            concat_string = element\n",
    "        else:\n",
    "            concat_string += \"-\" + element\n",
    "\n",
    "print(\"Concatenated string:\", concat_string)"
   ]
  },
  {
   "cell_type": "code",
   "execution_count": 12,
   "id": "d8e2c42b-6b57-4149-a39d-5077bc8bb6ab",
   "metadata": {},
   "outputs": [
    {
     "name": "stdout",
     "output_type": "stream",
     "text": [
      "Odd numbers : [5, 7, 97, 77, 23, 73, 61]\n"
     ]
    }
   ],
   "source": [
    "#Q8 Get only odd numbers from the following list and store the numbers in new list\n",
    "li = [5, 7, 22, 97, 54, 62, 77, 23, 73, 61]\n",
    "\n",
    "#i. Use loops to get the answer\n",
    "odd_numbers = []\n",
    "\n",
    "for num in li:\n",
    "    if num % 2 != 0:\n",
    "        odd_numbers.append(num)\n",
    "\n",
    "print(\"Odd numbers :\", odd_numbers)\n"
   ]
  },
  {
   "cell_type": "code",
   "execution_count": 14,
   "id": "d1c71b54-3c29-4038-b42b-e02cea659e81",
   "metadata": {},
   "outputs": [
    {
     "name": "stdout",
     "output_type": "stream",
     "text": [
      "25\n",
      "20\n",
      "28.26\n",
      "Please enter 'side' for a square.\n",
      "Shape not recognized. Please enter 'square', 'rectangle', or 'circle'.\n"
     ]
    }
   ],
   "source": [
    "#Q9: Write an udf to calculate the area of different shapes\n",
    "#Take shape and dimensions as arguments to udf as follows :\n",
    "#1. square which has side\n",
    "#2. rectangle which has length and width\n",
    "#3. circle which has radius\n",
    "#The shape should be a positional argument and it's dimensions are taken as kwargs\n",
    "#Perform proper validation for the user inputs and then calculate area.\n",
    "#E.g. if shape is square, ensure kwargs has \"side\" and if so, then you may return the area, else display appropriate error message like \"Please enter 'side' for a square\"\n",
    "def calculate_area(shape, **kwargs):\n",
    "    if shape == \"square\":\n",
    "        if \"side\" in kwargs:\n",
    "            side = kwargs[\"side\"]\n",
    "            if side > 0:\n",
    "                return side ** 2\n",
    "            else:\n",
    "                return \"Side length must be positive.\"\n",
    "        else:\n",
    "            return \"Please enter 'side' for a square.\"\n",
    "\n",
    "    elif shape == \"rectangle\":\n",
    "        if \"length\" in kwargs and \"width\" in kwargs:\n",
    "            length = kwargs[\"length\"]\n",
    "            width = kwargs[\"width\"]\n",
    "            if length > 0 and width > 0:\n",
    "                return length * width\n",
    "            else:\n",
    "                return \"Length and width must be positive.\"\n",
    "        else:\n",
    "            return \"Please enter 'length' and 'width' for a rectangle.\"\n",
    "\n",
    "    elif shape == \"circle\":\n",
    "        if \"radius\" in kwargs:\n",
    "            radius = kwargs[\"radius\"]\n",
    "            if radius > 0:\n",
    "                return 3.14 * (radius ** 2)\n",
    "            else:\n",
    "                return \"Radius must be positive.\"\n",
    "        else:\n",
    "            return \"Please enter 'radius' for a circle.\"\n",
    "\n",
    "    else:\n",
    "        return \"Shape not recognized. Please enter 'square', 'rectangle', or 'circle'.\"\n",
    "\n",
    "print(calculate_area(\"square\", side=5))\n",
    "print(calculate_area(\"rectangle\", length=4, width=5))\n",
    "print(calculate_area(\"circle\", radius=3))\n",
    "print(calculate_area(\"square\", length=5))\n",
    "print(calculate_area(\"triangle\", base=5))\n"
   ]
  },
  {
   "cell_type": "code",
   "execution_count": 15,
   "id": "f571fb2d-eea9-473a-afbc-272cc7664383",
   "metadata": {},
   "outputs": [
    {
     "name": "stdin",
     "output_type": "stream",
     "text": [
      "Enter a number to check if it is prime:  5\n"
     ]
    },
    {
     "name": "stdout",
     "output_type": "stream",
     "text": [
      "5 is a prime number.\n"
     ]
    }
   ],
   "source": [
    "#Q10: write a UDF to check if a number is prime or not.\n",
    "def is_prime(number):\n",
    "    if number <= 1:\n",
    "        return f\"{number} is not a prime number.\"\n",
    "\n",
    "    for i in range(2, int(number**0.5) + 1):\n",
    "        if number % i == 0:\n",
    "            return f\"{number} is not a prime number.\"\n",
    "\n",
    "    return f\"{number} is a prime number.\"\n",
    "\n",
    "try:\n",
    "    user_input = int(input(\"Enter a number to check if it is prime: \"))\n",
    "    result = is_prime(user_input)\n",
    "    print(result)\n",
    "except ValueError:\n",
    "    print(\"Please enter a valid integer.\")\n"
   ]
  },
  {
   "cell_type": "code",
   "execution_count": 17,
   "id": "9b0636cc-1c76-41ae-8fed-b4533a230985",
   "metadata": {},
   "outputs": [
    {
     "name": "stdin",
     "output_type": "stream",
     "text": [
      "Enter a string:  imagine\n"
     ]
    },
    {
     "name": "stdout",
     "output_type": "stream",
     "text": [
      "Reversed string: enigami\n"
     ]
    }
   ],
   "source": [
    "#Q11. Write a program that takes a string and returns reversed string. i.e. if input is \"abcd123\" output should be \"321dcba\"\n",
    "user_input = input(\"Enter a string: \")\n",
    "\n",
    "reversed_string = \"\"\n",
    "\n",
    "for i in range(len(user_input) - 1, -1, -1):\n",
    "    reversed_string += user_input[i]\n",
    "\n",
    "print(\"Reversed string:\", reversed_string)"
   ]
  },
  {
   "cell_type": "code",
   "execution_count": null,
   "id": "8cf4ac0c-01c1-4e33-904a-fe43d08795db",
   "metadata": {},
   "outputs": [],
   "source": []
  }
 ],
 "metadata": {
  "kernelspec": {
   "display_name": "Python 3 (ipykernel)",
   "language": "python",
   "name": "python3"
  },
  "language_info": {
   "codemirror_mode": {
    "name": "ipython",
    "version": 3
   },
   "file_extension": ".py",
   "mimetype": "text/x-python",
   "name": "python",
   "nbconvert_exporter": "python",
   "pygments_lexer": "ipython3",
   "version": "3.12.5"
  }
 },
 "nbformat": 4,
 "nbformat_minor": 5
}
